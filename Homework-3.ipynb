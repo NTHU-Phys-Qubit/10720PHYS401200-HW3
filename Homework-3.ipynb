{
 "cells": [
  {
   "cell_type": "markdown",
   "metadata": {},
   "source": [
    "# 10720PHYS401200 Homework-3"
   ]
  },
  {
   "cell_type": "markdown",
   "metadata": {},
   "source": [
    "## Finite size scaling of the 2D Ising model\n",
    "\n",
    "Write a program/function to perform a Monte Carlo simulation of the 2D Ising model in zero magnetic field.\n",
    "\n",
    "$$\n",
    "  H = -J \\sum_{\\langle i,j\\rangle} \\sigma_i \\sigma_j,\n",
    "$$\n",
    "\n",
    "where $\\sigma=\\pm 1$ and the sum is over nearest-neighbor pairs of sites on a square lattice of $N = L \\times L$ sites."
   ]
  },
  {
   "cell_type": "markdown",
   "metadata": {},
   "source": [
    "## Problem 1: Finite size scaling of the susceptibility\n",
    "\n",
    "Calculate susceptibility per site $Q \\equiv \\frac{\\chi}{N}$ for $L = 2,4,8,16,32$. For each size $L$, estimate the finite-size critical temperature $T_{max}(L)$ at which $Q$ attends the maximal value $Q_{max}(L)$.\n",
    "\n",
    "* Plot $\\ln Q_{max}(L)$ v.s. $\\ln(L)$. Your data should more or less fall on a straight line. Plot a line with slope $\\gamma=7/4$ that fits your data well. Alternatively, you can fit your data to a straight line and compare the slope you obtain with the exact exponent $\\gamma=7/4$.\n",
    "\n",
    "* For each size $L$, evaluate the value of the magnetization per site at the finite-size critical temperature, i.e., $M(T_{max}(L))$. Plot $\\ln M(T_{max}(L))$ v.s. $\\ln(L)$. You should again obtain more or less a straight line, with slope $-\\beta=-1/8$.\n",
    "\n",
    "* For each size $L$, Plot $Q(T,L)L^{-\\gamma}$ v.s. $ (T-T_c)*L$ and show that data from all $L$ collapse into a single curve. You can use the exact $T_c=\\frac{2}{\\ln(1+\\sqrt{2})}$."
   ]
  },
  {
   "cell_type": "code",
   "execution_count": null,
   "metadata": {},
   "outputs": [],
   "source": []
  },
  {
   "cell_type": "markdown",
   "metadata": {},
   "source": [
    "## Problem 2: Finite size scaling of the heat capacity\n",
    "\n",
    "Calculate heat capacity per site $Q \\equiv \\frac{C}{N}$ for $L = 2,4,8,16,32$. For each size $L$, estimate the finite-size critical temperature $T_{max}(L)$ at which $Q$ attends the maximal value $Q_{max}(L)$.\n",
    "\n",
    "* Plot $\\ln Q_{max}(L)$ v.s. $\\ln(L)$ and show that your data **does not** fall on a straight line.\n",
    "\n",
    "* Plot $Q_{max}(L)$ v.s. $\\ln(L)$. Your data should more or less fall on a straight line. Estimate the slope."
   ]
  },
  {
   "cell_type": "code",
   "execution_count": null,
   "metadata": {},
   "outputs": [],
   "source": []
  },
  {
   "cell_type": "markdown",
   "metadata": {},
   "source": [
    "## Problem 3: Correlation function and correlation length\n",
    "\n",
    "Write a program/function to measure the correlation function matrix\n",
    "$$\n",
    "  C(\\vec{r}) = \\langle S_{0,0} S_{i,j} \\rangle,\n",
    "$$\n",
    "where $\\vec{r}=(i,j)$ and $i,j=1,\\cdots, L$.\n",
    "\n",
    "Define the Fourier transform of the correlaction function\n",
    "$$\n",
    "  S(\\vec{q}=\\sum_{\\vec{r}} \\cos(\\vec{q}\\cdot\\vec{r}) C(\\vec{r}).\n",
    "$$\n",
    "\n",
    "Define correlation length $\\xi_a$ as\n",
    "$$\n",
    "  \\xi_a = \\frac{1}{q_1} \\sqrt{\\frac{S(0)}{S(q_1)}-1},\n",
    "$$\n",
    "where $q_1=(\\frac{2\\pi}{L},0)$.\n",
    "\n",
    "Plot $\\xi_a/L$ as a function of $T$ for $L=4,8,16$ and show that the curves corss around exact $T_c$."
   ]
  },
  {
   "cell_type": "code",
   "execution_count": null,
   "metadata": {},
   "outputs": [],
   "source": []
  }
 ],
 "metadata": {
  "kernelspec": {
   "display_name": "Python 3",
   "language": "python",
   "name": "python3"
  },
  "language_info": {
   "codemirror_mode": {
    "name": "ipython",
    "version": 3
   },
   "file_extension": ".py",
   "mimetype": "text/x-python",
   "name": "python",
   "nbconvert_exporter": "python",
   "pygments_lexer": "ipython3",
   "version": "3.6.8"
  }
 },
 "nbformat": 4,
 "nbformat_minor": 2
}
